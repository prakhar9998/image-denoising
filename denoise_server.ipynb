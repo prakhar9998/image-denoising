{
  "nbformat": 4,
  "nbformat_minor": 0,
  "metadata": {
    "colab": {
      "name": "denoise_server.ipynb",
      "provenance": [],
      "collapsed_sections": [],
      "authorship_tag": "ABX9TyPjP2W1E9XCc/IfR+kfXRh5",
      "include_colab_link": true
    },
    "kernelspec": {
      "name": "python3",
      "display_name": "Python 3"
    }
  },
  "cells": [
    {
      "cell_type": "markdown",
      "metadata": {
        "id": "view-in-github",
        "colab_type": "text"
      },
      "source": [
        "<a href=\"https://colab.research.google.com/github/prakhar9998/image-denoising/blob/main/denoise_server.ipynb\" target=\"_parent\"><img src=\"https://colab.research.google.com/assets/colab-badge.svg\" alt=\"Open In Colab\"/></a>"
      ]
    },
    {
      "cell_type": "code",
      "metadata": {
        "colab": {
          "base_uri": "https://localhost:8080/"
        },
        "id": "RoJSCd2-vXdF",
        "outputId": "288f67d6-7f25-4179-df09-7cf709713655"
      },
      "source": [
        "!pip install flask-ngrok"
      ],
      "execution_count": 71,
      "outputs": [
        {
          "output_type": "stream",
          "text": [
            "Requirement already satisfied: flask-ngrok in /usr/local/lib/python3.6/dist-packages (0.0.25)\n",
            "Requirement already satisfied: Flask>=0.8 in /usr/local/lib/python3.6/dist-packages (from flask-ngrok) (1.1.2)\n",
            "Requirement already satisfied: requests in /usr/local/lib/python3.6/dist-packages (from flask-ngrok) (2.23.0)\n",
            "Requirement already satisfied: itsdangerous>=0.24 in /usr/local/lib/python3.6/dist-packages (from Flask>=0.8->flask-ngrok) (1.1.0)\n",
            "Requirement already satisfied: Jinja2>=2.10.1 in /usr/local/lib/python3.6/dist-packages (from Flask>=0.8->flask-ngrok) (2.11.2)\n",
            "Requirement already satisfied: click>=5.1 in /usr/local/lib/python3.6/dist-packages (from Flask>=0.8->flask-ngrok) (7.1.2)\n",
            "Requirement already satisfied: Werkzeug>=0.15 in /usr/local/lib/python3.6/dist-packages (from Flask>=0.8->flask-ngrok) (1.0.1)\n",
            "Requirement already satisfied: certifi>=2017.4.17 in /usr/local/lib/python3.6/dist-packages (from requests->flask-ngrok) (2020.12.5)\n",
            "Requirement already satisfied: idna<3,>=2.5 in /usr/local/lib/python3.6/dist-packages (from requests->flask-ngrok) (2.10)\n",
            "Requirement already satisfied: urllib3!=1.25.0,!=1.25.1,<1.26,>=1.21.1 in /usr/local/lib/python3.6/dist-packages (from requests->flask-ngrok) (1.24.3)\n",
            "Requirement already satisfied: chardet<4,>=3.0.2 in /usr/local/lib/python3.6/dist-packages (from requests->flask-ngrok) (3.0.4)\n",
            "Requirement already satisfied: MarkupSafe>=0.23 in /usr/local/lib/python3.6/dist-packages (from Jinja2>=2.10.1->Flask>=0.8->flask-ngrok) (1.1.1)\n"
          ],
          "name": "stdout"
        }
      ]
    },
    {
      "cell_type": "code",
      "metadata": {
        "id": "f8oJpGUCwS5-",
        "colab": {
          "base_uri": "https://localhost:8080/"
        },
        "outputId": "1f95f437-1b2b-4a83-d6e8-3402cd08fcac"
      },
      "source": [
        "from google.colab import drive\r\n",
        "drive.mount('/content/gdrive')"
      ],
      "execution_count": 72,
      "outputs": [
        {
          "output_type": "stream",
          "text": [
            "Drive already mounted at /content/gdrive; to attempt to forcibly remount, call drive.mount(\"/content/gdrive\", force_remount=True).\n"
          ],
          "name": "stdout"
        }
      ]
    },
    {
      "cell_type": "code",
      "metadata": {
        "id": "-nOHlh5sTpLB"
      },
      "source": [
        "import tensorflow as tf\r\n",
        "import numpy as np\r\n",
        "import matplotlib.pyplot as plt\r\n",
        "import math\r\n",
        "import cv2 as cv"
      ],
      "execution_count": 73,
      "outputs": []
    },
    {
      "cell_type": "code",
      "metadata": {
        "id": "LMlfTOUSTa8u"
      },
      "source": [
        "def psnr(im1, im2):\r\n",
        "    return tf.image.psnr(im1, im2, max_val=1.0)\r\n",
        "\r\n",
        "model = tf.keras.models.load_model('gdrive/MyDrive/denoise/dncnn_model', compile=False, custom_objects={'psnr': psnr})"
      ],
      "execution_count": 74,
      "outputs": []
    },
    {
      "cell_type": "code",
      "metadata": {
        "id": "K-ZpRuQ9Ta5c"
      },
      "source": [
        "def dcnn_loss(predicted, true):\r\n",
        "    return tf.keras.backend.sum(tf.keras.backend.square(predicted - true)) / 2\r\n",
        "\r\n",
        "model.compile(optimizer=tf.keras.optimizers.Adam(), loss=dcnn_loss, metrics=[psnr])"
      ],
      "execution_count": 75,
      "outputs": []
    },
    {
      "cell_type": "code",
      "metadata": {
        "id": "KMnt7RVHTa3P"
      },
      "source": [
        "def predict(img):\r\n",
        "    # expects a PIL image object\r\n",
        "    plt.imshow(img)\r\n",
        "    plt.show()\r\n",
        "\r\n",
        "    img = tf.keras.preprocessing.image.img_to_array(img) / 255\r\n",
        "    print(img.shape)\r\n",
        "    patches = tf.image.extract_patches(images=np.expand_dims(img, 0),\r\n",
        "                         sizes=[1,140,140,1],\r\n",
        "                         strides=[1,140,140,1],\r\n",
        "                         rates=[1,1,1,1],\r\n",
        "                         padding='SAME')\r\n",
        "    \r\n",
        "    patches = tf.reshape(patches, [-1, 140, 140, 3])\r\n",
        "\r\n",
        "    res_images = []\r\n",
        "    print(\"Total patches: \", len(patches))\r\n",
        "    for i in range(len(patches)):\r\n",
        "        print(\"Predicting patch no. \", i + 1)\r\n",
        "        res_images.append(model.predict(np.expand_dims(patches[i], 0)))\r\n",
        "\r\n",
        "    res_patches = np.array(res_images)\r\n",
        "    res_patches = tf.reshape(res_patches, [-1, 140, 140, 3])\r\n",
        "\r\n",
        "    test = tf.split(res_patches, res_patches.shape[0])\r\n",
        "\r\n",
        "    horizontal_patches = math.ceil(img.shape[0] / 140)\r\n",
        "    vertical_patches = math.ceil(img.shape[1] / 140)\r\n",
        "\r\n",
        "    combined = []\r\n",
        "\r\n",
        "    for i in range(horizontal_patches):\r\n",
        "        combined.append(tf.concat([test[i * vertical_patches + j][0] for j in range(vertical_patches)], 1))\r\n",
        "\r\n",
        "    final = tf.concat(combined, 0)\r\n",
        "\r\n",
        "    output_image = tf.keras.preprocessing.image.array_to_img(final)\r\n",
        "\r\n",
        "    return output_image"
      ],
      "execution_count": 76,
      "outputs": []
    },
    {
      "cell_type": "code",
      "metadata": {
        "id": "XCGFXBN9nR2g"
      },
      "source": [
        "def denoise_opencv(pil_image):\r\n",
        "    img = np.array(pil_image) \r\n",
        "    # Convert RGB to BGR \r\n",
        "    img = img[:, :, ::-1].copy() \r\n",
        "    dst = cv.fastNlMeansDenoisingColored(img,None,10,10,7,21)\r\n",
        "    color_coverted = cv.cvtColor(dst, cv.COLOR_BGR2RGB)\r\n",
        "    pil_image=Image.fromarray(color_coverted)\r\n",
        "    return pil_image"
      ],
      "execution_count": 77,
      "outputs": []
    },
    {
      "cell_type": "code",
      "metadata": {
        "id": "sMvuG4zcUujb"
      },
      "source": [
        "img1 = tf.keras.preprocessing.image.load_img('gdrive/MyDrive/denoise/noisy1.png')\r\n",
        "imgres = denoise_opencv(img1)\r\n",
        "plt.imshow(imgres)\r\n",
        "plt.show()"
      ],
      "execution_count": null,
      "outputs": []
    },
    {
      "cell_type": "code",
      "metadata": {
        "id": "JCVqsoq-vaGi"
      },
      "source": [
        "from flask import Flask\r\n",
        "from flask import request\r\n",
        "from flask import send_file\r\n",
        "from flask_ngrok import run_with_ngrok\r\n",
        "import io\r\n",
        "from PIL import Image\r\n",
        "\r\n",
        "app = Flask(__name__)\r\n",
        "run_with_ngrok(app)  # Start ngrok when app is run\r\n",
        "\r\n",
        "# for / root, return Hello Word\r\n",
        "@app.route(\"/\")\r\n",
        "def root():\r\n",
        "    url = request.method\r\n",
        "    return f\"Hello World! {url}\"\r\n",
        "\r\n",
        "@app.route(\"/denoise\", methods=['POST'])\r\n",
        "def denoise():\r\n",
        "    img_requested = request.files['image'].read()\r\n",
        "    denoise_method = \"CNN\"\r\n",
        "    try:\r\n",
        "        denoise_method = request.form['method']\r\n",
        "        if denoise_method != \"NLM\":\r\n",
        "            denoise_method = \"CNN\"\r\n",
        "    except KeyError:\r\n",
        "        denoise_method = \"CNN\"\r\n",
        "\r\n",
        "    img = Image.open(io.BytesIO(img_requested))\r\n",
        "    img = img.convert(\"RGB\")\r\n",
        "\r\n",
        "    if denoise_method is \"CNN\":\r\n",
        "        denoised_img = predict(img)\r\n",
        "    else:\r\n",
        "        denoised_img = denoise_opencv(img)\r\n",
        "\r\n",
        "    file_object = io.BytesIO()\r\n",
        "\r\n",
        "    denoised_img.save(file_object, \"png\")\r\n",
        "\r\n",
        "    file_object.seek(0)\r\n",
        "\r\n",
        "    return send_file(file_object, mimetype='image/png')\r\n",
        "\r\n",
        "app.run()"
      ],
      "execution_count": null,
      "outputs": []
    },
    {
      "cell_type": "code",
      "metadata": {
        "id": "6wejyj0Xvc2R"
      },
      "source": [
        ""
      ],
      "execution_count": null,
      "outputs": []
    }
  ]
}